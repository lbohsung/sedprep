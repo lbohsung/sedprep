{
 "cells": [
  {
   "attachments": {},
   "cell_type": "markdown",
   "metadata": {},
   "source": [
    "# Introduction"
   ]
  },
  {
   "attachments": {},
   "cell_type": "markdown",
   "metadata": {},
   "source": [
    "In our quest to understand the geomagnetic field, we rely on two primary sources of data. The first source is __archaeomagnetic data__, which provide us with valuable information about the geomagnetic field based on ancient artifacts and lava flow samples. However, one major challenge we encounter is the uneven distribution of this data in both space and time. It's like trying to put together a historical jigsaw puzzle without all the pieces.\n",
    "\n",
    "But don't worry, there is another data source that helps overcome these limitations and provides a more comprehensive understanding of the past geomagnetic field. __Sedimentary records__, a treasure trove of information spanning vast time periods and offering improved spatial coverage. Imagine these records as growing bars, each representing a time series of the geomagnetic field at a specific location. In contrast, archaeomagnetic data appears as dots, providing snapshots of the geomagnetic field at specific locations. As we venture further back in time, sediment data becomes increasingly essential since archaeomagnetic data becomes sparser.\n",
    "\n",
    "![spatial and temporal data coverage](data_dist.gif \"Spatial and temporal data coverage\")\n",
    "\n",
    "Our journey through sedimentary records uncovers two pivotal magnetization phenomena. First, thermoremanent magnetization (TRM), where objects like pottery, kilns, and cooling lava flows become magnetized upon heating and subsequent cooling, encapsulating a snapshot of the geomagnetic field at that moment. It's like capturing a piece of geomagnetic field's history in a magnetic time capsule.\n",
    "\n",
    "The second phenomenon, detrital remanent magnetization (DRM), unfolds as magnetic particles within sediments align with the geomagnetic field during deposition. Over time, as sediment layers accumulate, these particles become fixed, their orientations a frozen echo of the geomagnetic forces at play. Yet, the journey from sediment to solidified record is fraught with challenges, from the interaction of magnetic particles at the sediment-water interface to complications during core extraction and data measurement.\n",
    "\n",
    "Here ``sedprep`` comes into play. Our approach leverages a further developed Bayesian modeling technique to simultaneously estimate parameters including declination offset, inclination shallowing, and calibration of RPI, alongside correcting for post-depositional detrital remanent magnetization (pDRM) distortions. This methodology employs global archaeomagnetic and volcanic data as independent references, enabling precise parameter estimation for a local sediment record. Following parameter estimation, we apply these parameters to preprocess the sediment record, implementing adjustments for declination offset, inclination shallowing, and intensity calibration. For pDRM effects, a sophisticated Gaussian process deconvolution is used to correct the data.\n",
    "\n",
    "Join us in this scientific odyssey as we leverage ``sedprep`` to piece together the geomagnetic puzzle of Earth's past. We welcome feedback, contributions, and collaboration from the scientific community to further refine and expand the capabilities of sedprep. Details about the methodologies, synthetic tests and application to real-world data can be found in our papers (https://doi.org/10.1029/2023JB027373, https://doi.org/10.1029/2024JB028864)."
   ]
  }
 ],
 "metadata": {
  "kernelspec": {
   "display_name": "sediments",
   "language": "python",
   "name": "python3"
  },
  "language_info": {
   "codemirror_mode": {
    "name": "ipython",
    "version": 3
   },
   "file_extension": ".py",
   "mimetype": "text/x-python",
   "name": "python",
   "nbconvert_exporter": "python",
   "pygments_lexer": "ipython3",
   "version": "3.10.0"
  },
  "orig_nbformat": 4
 },
 "nbformat": 4,
 "nbformat_minor": 2
}
